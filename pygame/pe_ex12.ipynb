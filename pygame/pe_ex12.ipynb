{
 "cells": [
  {
   "cell_type": "code",
   "execution_count": 1,
   "metadata": {},
   "outputs": [
    {
     "name": "stdout",
     "output_type": "stream",
     "text": [
      "pygame 1.9.6\n",
      "Hello from the pygame community. https://www.pygame.org/contribute.html\n"
     ]
    }
   ],
   "source": [
    "import random\n",
    "import pygame\n",
    "pygame.init()\n",
    "screen = pygame.display.set_mode((640, 480))\n",
    "\n",
    "\n",
    "def random_color():\n",
    "    red = random.randint(0, 255)\n",
    "    green = random.randint(0, 255)\n",
    "    blue = random.randint(0, 255)\n",
    "    return (red, green, blue)\n",
    "\n",
    "\n",
    "def draw_tree(x, y):\n",
    "    # tree trunk (50 wide and 100 tall)\n",
    "    pygame.draw.rect(screen, (117, 90, 0), (x, y-100, 50, 100))\n",
    "    # leaves are a circle\n",
    "    pygame.draw.circle(screen, (27, 117, 0), (x+25, y-120), 50)\n",
    "\n",
    "\n",
    "def draw_house(x, y):\n",
    "    # pink house\n",
    "    pygame.draw.rect(screen, (255, 171, 244), (x, y-180, 200, 180))\n",
    "    # brown door\n",
    "    pygame.draw.rect(screen, (89, 71, 0), (x+80, y-60, 40, 60))\n",
    "    # yellow door knob\n",
    "    pygame.draw.circle(screen, (255, 204, 0), (x+112, y-30), 4)\n",
    "    # triangle roof\n",
    "    pygame.draw.polygon(screen, (125, 125, 125), ((\n",
    "        x, y-180), (x+100, y-250), (x+200, y-180)))\n",
    "    draw_window(x+20, y-90)\n",
    "    draw_window(x+130, y-90)\n",
    "\n",
    "\n",
    "def draw_window(x, y):\n",
    "    # glass\n",
    "    pygame.draw.rect(screen, random_color(), (x, y-50, 50, 50))\n",
    "    # frame\n",
    "    pygame.draw.rect(screen, (0, 0, 0), (x, y-50, 50, 50), 5)\n",
    "    pygame.draw.rect(screen, (0, 0, 0), (x+23, y-50, 5, 50))\n",
    "    pygame.draw.rect(screen, (0, 0, 0), (x, y-27, 50, 5))\n",
    "\n",
    "\n",
    "# this function is able to draw clouds of different sizes\n",
    "def draw_cloud(x, y, size):\n",
    "    # put int() around any multiplications by decimals to get rid of this warning:\n",
    "    # DeprecationWarning: integer argument expected, got float\n",
    "    pygame.draw.circle(screen, (255, 255, 255), (x, y), int(size*.5))\n",
    "    pygame.draw.circle(screen, (255, 255, 255),\n",
    "                       (int(x+size*.5), y), int(size*.6))\n",
    "    pygame.draw.circle(screen, (255, 255, 255),\n",
    "                       (x+size, int(y-size*.1)), int(size*.4))\n",
    "\n",
    "\n",
    "# green ground\n",
    "pygame.draw.rect(screen, (0, 160, 3), (0, 400, 640, 80))\n",
    "# light blue sky\n",
    "pygame.draw.rect(screen, (100, 200, 255), (0, 0, 640, 400))\n",
    "\n",
    "draw_tree(60, 400)  # x and y location are the bottom left of tree trunk\n",
    "draw_tree(550, 400)\n",
    "\n",
    "draw_house(225, 400)\n",
    "\n",
    "draw_cloud(60, 120, 80)\n",
    "draw_cloud(200, 50, 40)\n",
    "draw_cloud(450, 100, 120)\n",
    "\n",
    "pygame.display.flip()\n",
    "\n",
    "running = True\n",
    "while running:\n",
    "    for event in pygame.event.get():\n",
    "        if event.type == pygame.QUIT:\n",
    "            running = False\n",
    "\n",
    "pygame.quit()"
   ]
  }
 ],
 "metadata": {
  "kernelspec": {
   "display_name": "Python 3",
   "language": "python",
   "name": "python3"
  },
  "language_info": {
   "codemirror_mode": {
    "name": "ipython",
    "version": 3
   },
   "file_extension": ".py",
   "mimetype": "text/x-python",
   "name": "python",
   "nbconvert_exporter": "python",
   "pygments_lexer": "ipython3",
   "version": "3.7.3"
  }
 },
 "nbformat": 4,
 "nbformat_minor": 2
}
