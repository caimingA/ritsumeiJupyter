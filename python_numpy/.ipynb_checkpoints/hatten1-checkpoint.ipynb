{
 "cells": [
  {
   "cell_type": "code",
   "execution_count": 2,
   "metadata": {},
   "outputs": [],
   "source": [
    "import numpy as np\n",
    "import matplotlib.pyplot as plt\n",
    "import math"
   ]
  },
  {
   "cell_type": "code",
   "execution_count": 20,
   "metadata": {},
   "outputs": [
    {
     "name": "stdout",
     "output_type": "stream",
     "text": [
      "3.141592653589793\n",
      "1.0000000000000002\n"
     ]
    }
   ],
   "source": [
    "PI = math.pi\n",
    "def sin(x, n):\n",
    "    a = x\n",
    "    for k in range(1, n):\n",
    "        if k % 2 != 0:\n",
    "            a -= (x**(2*k+1))/math.factorial((2*k+1))\n",
    "        else:\n",
    "            a += (x**(2*k+1))/math.factorial((2*k+1))\n",
    "    return a\n",
    "\n",
    "print(PI)\n",
    "print(sin(PI/2, 20))"
   ]
  },
  {
   "cell_type": "code",
   "execution_count": 22,
   "metadata": {},
   "outputs": [
    {
     "name": "stdout",
     "output_type": "stream",
     "text": [
      "2.7182818284590455\n"
     ]
    }
   ],
   "source": [
    "def e(x, n):\n",
    "    a = 1\n",
    "    for k in range(1, n):\n",
    "        a += (x**k)/math.factorial(k)\n",
    "    return a\n",
    "print(e(1, 20))"
   ]
  },
  {
   "cell_type": "code",
   "execution_count": null,
   "metadata": {},
   "outputs": [],
   "source": []
  }
 ],
 "metadata": {
  "kernelspec": {
   "display_name": "Python 3",
   "language": "python",
   "name": "python3"
  },
  "language_info": {
   "codemirror_mode": {
    "name": "ipython",
    "version": 3
   },
   "file_extension": ".py",
   "mimetype": "text/x-python",
   "name": "python",
   "nbconvert_exporter": "python",
   "pygments_lexer": "ipython3",
   "version": "3.7.3"
  }
 },
 "nbformat": 4,
 "nbformat_minor": 2
}
