{
 "cells": [
  {
   "cell_type": "markdown",
   "metadata": {},
   "source": [
    "# 課題1"
   ]
  },
  {
   "cell_type": "code",
   "execution_count": 1,
   "metadata": {},
   "outputs": [
    {
     "name": "stdout",
     "output_type": "stream",
     "text": [
      "x 1  =  0.33333333333333337\n",
      "x 2  =  0.5042735042735043\n",
      "x 3  =  0.49999993062380443\n",
      "x 4  =  0.5\n"
     ]
    }
   ],
   "source": [
    "import math\n",
    "def f(x):\n",
    "    return x**3 - (3/2) * x**2 - (3/2) * x + 1\n",
    "\n",
    "\n",
    "def f_D(x):\n",
    "    return 3 * x**2 - 3 * x - 3/2\n",
    "\n",
    "x_n = 0\n",
    "x_n_1 = 1\n",
    "counter = 1\n",
    "while math.fabs(x_n_1 - x_n) > 1e-6:\n",
    "    x_n = x_n_1\n",
    "    x_n_1 = x_n - (f(x_n))/(f_D(x_n))\n",
    "    print(\"x\",counter,\" = \", x_n_1)\n",
    "    counter += 1"
   ]
  },
  {
   "cell_type": "markdown",
   "metadata": {},
   "source": [
    "# 課題2"
   ]
  },
  {
   "cell_type": "code",
   "execution_count": 2,
   "metadata": {},
   "outputs": [
    {
     "name": "stdout",
     "output_type": "stream",
     "text": [
      "x 1  =  -0.06049643109798075\n",
      "x 2  =  0.13843594506585485\n",
      "x 3  =  0.14742430385344094\n",
      "x 4  =  0.14744194347051884\n",
      "x 5  =  0.14744194353833337\n",
      "--------------------------------\n",
      "x 1  =  5.999586703894119\n",
      "x 2  =  5.99958667537417\n"
     ]
    }
   ],
   "source": [
    "def g(x):\n",
    "    return math.exp(-x) +  x**2 - 6*x\n",
    "\n",
    "\n",
    "def g_D(x):\n",
    "    return -math.exp(-x) + 2 * x - 6\n",
    "\n",
    "x_n = 0\n",
    "x_n_1 = 1\n",
    "counter = 1\n",
    "while math.fabs(x_n_1 - x_n) > 1e-6:\n",
    "    x_n = x_n_1\n",
    "    x_n_1 = x_n - (g(x_n))/(g_D(x_n))\n",
    "    print(\"x\",counter,\" = \", x_n_1)\n",
    "    counter += 1\n",
    "print('--------------------------------')\n",
    "x_n = 5\n",
    "x_n_1 = 6\n",
    "counter = 1\n",
    "while math.fabs(x_n_1 - x_n) > 1e-6:\n",
    "    x_n = x_n_1\n",
    "    x_n_1 = x_n - (g(x_n))/(g_D(x_n))\n",
    "    print(\"x\",counter,\" = \", x_n_1)\n",
    "    counter += 1\n"
   ]
  },
  {
   "cell_type": "markdown",
   "metadata": {},
   "source": [
    "# 課題3"
   ]
  },
  {
   "cell_type": "code",
   "execution_count": 18,
   "metadata": {},
   "outputs": [
    {
     "name": "stdout",
     "output_type": "stream",
     "text": [
      "x 1  =  0.6444117143671819\n",
      "x 2  =  0.7015570045044156\n",
      "x 3  =  0.7034653623309854\n",
      "x 4  =  0.7034674224959935\n",
      "x 5  =  0.7034674224983917\n"
     ]
    }
   ],
   "source": [
    "def h(x):\n",
    "    return x * math.exp(-x/2) -  math.exp(-x)\n",
    "\n",
    "\n",
    "def h_D(x):\n",
    "    return ((2 - x)/2) * math.exp(-x/2) + math.exp(-x)\n",
    "\n",
    "x_n = 0\n",
    "x_n_1 = 1\n",
    "counter = 1\n",
    "while math.fabs(x_n_1 - x_n) > 1e-6:\n",
    "    x_n = x_n_1\n",
    "    x_n_1 = x_n - (h(x_n))/(h_D(x_n))\n",
    "    print(\"x\",counter,\" = \", x_n_1)\n",
    "    counter += 1"
   ]
  }
 ],
 "metadata": {
  "kernelspec": {
   "display_name": "Python 3",
   "language": "python",
   "name": "python3"
  },
  "language_info": {
   "codemirror_mode": {
    "name": "ipython",
    "version": 3
   },
   "file_extension": ".py",
   "mimetype": "text/x-python",
   "name": "python",
   "nbconvert_exporter": "python",
   "pygments_lexer": "ipython3",
   "version": "3.7.3"
  }
 },
 "nbformat": 4,
 "nbformat_minor": 2
}
